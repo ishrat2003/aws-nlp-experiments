{
 "cells": [
  {
   "cell_type": "code",
   "execution_count": 1,
   "metadata": {},
   "outputs": [],
   "source": [
    "# S3 prefix\n",
    "prefix = 'contextual_summary'\n",
    "\n",
    "# Define IAM role\n",
    "import boto3\n",
    "import re\n",
    "\n",
    "import os\n",
    "import numpy as np\n",
    "import pandas as pd\n",
    "\n",
    "\n",
    "role = \"arn:aws:iam::540686626730:role/isSageMakerRole\""
   ]
  },
  {
   "cell_type": "code",
   "execution_count": 2,
   "metadata": {},
   "outputs": [
    {
     "name": "stdout",
     "output_type": "stream",
     "text": [
      "540686626730\n",
      "eu-west-1\n",
      "sagemaker-eu-west-1-540686626730\n"
     ]
    }
   ],
   "source": [
    "import sagemaker\n",
    "from sagemaker.local import LocalSession\n",
    "from time import gmtime, strftime\n",
    "\n",
    "session = sagemaker.LocalSession()\n",
    "\n",
    "account = session.boto_session.client('sts').get_caller_identity()['Account']\n",
    "print(account)\n",
    "\n",
    "region = session.boto_session.region_name\n",
    "print(region)\n",
    "\n",
    "bucket = \"sagemaker-{}-{}\".format(region, account)\n",
    "print(bucket)"
   ]
  },
  {
   "cell_type": "code",
   "execution_count": 3,
   "metadata": {},
   "outputs": [
    {
     "name": "stdout",
     "output_type": "stream",
     "text": [
      "s3://sagemaker-eu-west-1-540686626730/data/export.csv\n"
     ]
    }
   ],
   "source": [
    "data_key = 'data/export.csv'\n",
    "data_location = 's3://{}/{}'.format(bucket, data_key)\n",
    "print(data_location)"
   ]
  },
  {
   "cell_type": "code",
   "execution_count": 4,
   "metadata": {},
   "outputs": [
    {
     "data": {
      "text/html": [
       "<div>\n",
       "<style scoped>\n",
       "    .dataframe tbody tr th:only-of-type {\n",
       "        vertical-align: middle;\n",
       "    }\n",
       "\n",
       "    .dataframe tbody tr th {\n",
       "        vertical-align: top;\n",
       "    }\n",
       "\n",
       "    .dataframe thead th {\n",
       "        text-align: right;\n",
       "    }\n",
       "</style>\n",
       "<table border=\"1\" class=\"dataframe\">\n",
       "  <thead>\n",
       "    <tr style=\"text-align: right;\">\n",
       "      <th></th>\n",
       "      <th>2483</th>\n",
       "      <th>123 Hulls Yacht Sales 123 Hulls Yacht Sales</th>\n",
       "      <th></th>\n",
       "      <th>.1</th>\n",
       "    </tr>\n",
       "  </thead>\n",
       "  <tbody>\n",
       "    <tr>\n",
       "      <th>0</th>\n",
       "      <td>3509</td>\n",
       "      <td>212 Yachts</td>\n",
       "      <td></td>\n",
       "      <td></td>\n",
       "    </tr>\n",
       "    <tr>\n",
       "      <th>1</th>\n",
       "      <td>3359</td>\n",
       "      <td>Latitude 26</td>\n",
       "      <td></td>\n",
       "      <td></td>\n",
       "    </tr>\n",
       "    <tr>\n",
       "      <th>2</th>\n",
       "      <td>3289</td>\n",
       "      <td>26 North Yachts 26NY</td>\n",
       "      <td></td>\n",
       "      <td></td>\n",
       "    </tr>\n",
       "    <tr>\n",
       "      <th>3</th>\n",
       "      <td>2487</td>\n",
       "      <td>4Yacht Inc. Fort Lauderdale</td>\n",
       "      <td></td>\n",
       "      <td></td>\n",
       "    </tr>\n",
       "    <tr>\n",
       "      <th>4</th>\n",
       "      <td>3897</td>\n",
       "      <td>4you</td>\n",
       "      <td></td>\n",
       "      <td></td>\n",
       "    </tr>\n",
       "    <tr>\n",
       "      <th>...</th>\n",
       "      <td>...</td>\n",
       "      <td>...</td>\n",
       "      <td>...</td>\n",
       "      <td>...</td>\n",
       "    </tr>\n",
       "    <tr>\n",
       "      <th>825</th>\n",
       "      <td>3191</td>\n",
       "      <td>YachtLove</td>\n",
       "      <td></td>\n",
       "      <td></td>\n",
       "    </tr>\n",
       "    <tr>\n",
       "      <th>826</th>\n",
       "      <td>3859</td>\n",
       "      <td>Zarpo Yachts</td>\n",
       "      <td></td>\n",
       "      <td></td>\n",
       "    </tr>\n",
       "    <tr>\n",
       "      <th>827</th>\n",
       "      <td>3687</td>\n",
       "      <td>Yachts.in</td>\n",
       "      <td></td>\n",
       "      <td></td>\n",
       "    </tr>\n",
       "    <tr>\n",
       "      <th>828</th>\n",
       "      <td>3839</td>\n",
       "      <td>Yachtside</td>\n",
       "      <td></td>\n",
       "      <td></td>\n",
       "    </tr>\n",
       "    <tr>\n",
       "      <th>829</th>\n",
       "      <td>2365</td>\n",
       "      <td>Yachtzoo</td>\n",
       "      <td></td>\n",
       "      <td></td>\n",
       "    </tr>\n",
       "  </tbody>\n",
       "</table>\n",
       "<p>830 rows × 4 columns</p>\n",
       "</div>"
      ],
      "text/plain": [
       "     2483 123 Hulls Yacht Sales 123 Hulls Yacht Sales     .1\n",
       "0    3509                                  212 Yachts       \n",
       "1    3359                                 Latitude 26       \n",
       "2    3289                        26 North Yachts 26NY       \n",
       "3    2487                 4Yacht Inc. Fort Lauderdale       \n",
       "4    3897                                        4you       \n",
       "..    ...                                         ... ..  ..\n",
       "825  3191                                   YachtLove       \n",
       "826  3859                                Zarpo Yachts       \n",
       "827  3687                                   Yachts.in       \n",
       "828  3839                                   Yachtside       \n",
       "829  2365                                    Yachtzoo       \n",
       "\n",
       "[830 rows x 4 columns]"
      ]
     },
     "execution_count": 4,
     "metadata": {},
     "output_type": "execute_result"
    }
   ],
   "source": [
    "pd.read_csv(data_location)"
   ]
  },
  {
   "cell_type": "code",
   "execution_count": 5,
   "metadata": {},
   "outputs": [
    {
     "name": "stderr",
     "output_type": "stream",
     "text": [
      "WARNING:root:Parameter image_name will be renamed to image_uri in SageMaker Python SDK v2.\n",
      "WARNING:sagemaker:'s3_input' class will be renamed to 'TrainingInput' in SageMaker Python SDK v2.\n"
     ]
    },
    {
     "name": "stdout",
     "output_type": "stream",
     "text": [
      "Creating tmplxucrgo5_algo-1-4odqz_1 ... \n",
      "\u001b[1BAttaching to tmplxucrgo5_algo-1-4odqz_12mdone\u001b[0m\n",
      "\u001b[36malgo-1-4odqz_1  |\u001b[0m Starting the training.\n",
      "\u001b[36malgo-1-4odqz_1  |\u001b[0m Training complete.\n",
      "\u001b[36mtmplxucrgo5_algo-1-4odqz_1 exited with code 0\n",
      "\u001b[0mAborting on container exit...\n",
      "===== Job Complete =====\n"
     ]
    }
   ],
   "source": [
    "image = '{}.dkr.ecr.{}.amazonaws.com/aws_contextual_summary:latest'.format(account, region)\n",
    "\n",
    "model = sagemaker.estimator.Estimator(image,\n",
    "                       role, \n",
    "                       train_instance_count=1, \n",
    "                       train_instance_type='local',\n",
    "                       output_path=\"s3://{}/output\".format(bucket),\n",
    "                       sagemaker_session=session)\n",
    "\n",
    "model.fit(data_location)"
   ]
  },
  {
   "cell_type": "code",
   "execution_count": null,
   "metadata": {},
   "outputs": [],
   "source": []
  },
  {
   "cell_type": "code",
   "execution_count": null,
   "metadata": {},
   "outputs": [],
   "source": []
  }
 ],
 "metadata": {
  "kernelspec": {
   "display_name": "Python 3",
   "language": "python",
   "name": "python3"
  },
  "language_info": {
   "codemirror_mode": {
    "name": "ipython",
    "version": 3
   },
   "file_extension": ".py",
   "mimetype": "text/x-python",
   "name": "python",
   "nbconvert_exporter": "python",
   "pygments_lexer": "ipython3",
   "version": "3.7.6"
  }
 },
 "nbformat": 4,
 "nbformat_minor": 4
}
