{
 "cells": [
  {
   "cell_type": "code",
   "execution_count": 1,
   "metadata": {
    "tags": []
   },
   "outputs": [
    {
     "output_type": "stream",
     "name": "stdout",
     "text": "Started  2020-08-03 21:22:00.079672\n"
    }
   ],
   "source": [
    "import datetime\n",
    "print(\"Started \", datetime.datetime.now())"
   ]
  },
  {
   "cell_type": "code",
   "execution_count": 2,
   "metadata": {},
   "outputs": [],
   "source": [
    "# S3 prefix\n",
    "prefix = 'contextual_summary'\n",
    "\n",
    "# Define IAM role\n",
    "import boto3\n",
    "import re\n",
    "\n",
    "import os\n",
    "import numpy as np\n",
    "import pandas as pd\n",
    "\n",
    "\n",
    "role = \"arn:aws:iam::540686626730:role/isSageMakerRole\""
   ]
  },
  {
   "cell_type": "code",
   "execution_count": 3,
   "metadata": {},
   "outputs": [],
   "source": [
    "#https://medium.com/analytics-vidhya/house-price-prediction-regression-with-tensorflow-keras-4fc49fae7123"
   ]
  },
  {
   "cell_type": "code",
   "execution_count": 4,
   "metadata": {
    "tags": []
   },
   "outputs": [
    {
     "output_type": "stream",
     "name": "stdout",
     "text": "Account: 540686626730\nBucket: sagemaker-eu-west-1-540686626730\nRegion: eu-west-1\n"
    }
   ],
   "source": [
    "import sagemaker\n",
    "from sagemaker.local import LocalSession\n",
    "from time import gmtime, strftime\n",
    "\n",
    "session = sagemaker.LocalSession()\n",
    "\n",
    "account = session.boto_session.client('sts').get_caller_identity()['Account']\n",
    "region = session.boto_session.region_name\n",
    "bucket = \"sagemaker-{}-{}\".format(region, account)\n",
    "\n",
    "print('Account:', account)\n",
    "print('Bucket:', bucket)\n",
    "print( 'Region:', region)"
   ]
  },
  {
   "cell_type": "code",
   "execution_count": 5,
   "metadata": {},
   "outputs": [],
   "source": [
    "# Setting up local pipeline to save download data time. This code is not rrequired for other modes.\n",
    "\n",
    "session.config = {'local': {'local_code': True}} # local_code = True means keep everything local. Not even use S3 for data \n",
    "\n",
    "input_path = \"file:///Users/ishratsami/Workspace/research_projects/data/\"\n",
    "output_path = \"file:///Users/ishratsami/Workspace/research_projects/output/\""
   ]
  },
  {
   "cell_type": "code",
   "execution_count": 6,
   "metadata": {
    "tags": []
   },
   "outputs": [],
   "source": [
    "# data_key = 'covid19/input/'\n",
    "# input_path = 's3://{}/{}'.format(bucket, data_key)\n",
    "# output_path = 's3://{}/{}'.format(bucket, 'covid19/output/')\n"
   ]
  },
  {
   "cell_type": "code",
   "execution_count": 7,
   "metadata": {
    "tags": []
   },
   "outputs": [
    {
     "output_type": "stream",
     "name": "stdout",
     "text": "{'dataset_name': 'covid19', 'display_details': True, 'dataset_percentage': 100, 'total_items': 0, 'data_directory': '/opt/ml/input/data/training/', 'output_directory': '/opt/ml/output/', 'source_max_sequence_length': 3000, 'target_max_sequence_length': 300, 'epochs': 1, 'buffer_size': 20000, 'batch_size': 64, 'dimensions': 128, 'num_layers': 4, 'd_model': 128, 'dff': 512, 'dropout_rate': 0.1, 'position_contributing_factor': 1.0, 'occurance_contributing_factor': 1.0}\n"
    }
   ],
   "source": [
    "import json\n",
    "\n",
    "hyperparameters = {}\n",
    "with open('../code/input/config/hyperparameters.json') as json_file:\n",
    "    hyperparameters = json.load(json_file)\n",
    "    \n",
    "print(hyperparameters)"
   ]
  },
  {
   "cell_type": "code",
   "execution_count": 8,
   "metadata": {
    "tags": []
   },
   "outputs": [
    {
     "output_type": "stream",
     "name": "stdout",
     "text": "Input:  file:///Users/ishratsami/Workspace/research_projects/data/\nOutput: file:///Users/ishratsami/Workspace/research_projects/output/\n"
    }
   ],
   "source": [
    "print('Input: ', input_path)\n",
    "print('Output:', output_path)"
   ]
  },
  {
   "cell_type": "code",
   "execution_count": 9,
   "metadata": {
    "tags": []
   },
   "outputs": [
    {
     "output_type": "stream",
     "name": "stderr",
     "text": "WARNING:root:Parameter image_name will be renamed to image_uri in SageMaker Python SDK v2.\nCreating tmp9tw4u1bf_algo-1-qy331_1 ... \n\u001b[1BAttaching to tmp9tw4u1bf_algo-1-qy331_1\n\u001b[36mtmp9tw4u1bf_algo-1-qy331_1 exited with code 0\n\u001b[0mAborting on container exit...\n===== Job Complete =====\n"
    }
   ],
   "source": [
    "image = '{}.dkr.ecr.{}.amazonaws.com/aws-contextual-summary:latest'.format(account, region)\n",
    "# output_path=\"s3://{}/test/kaggle/output\".format(bucket)\n",
    "model = sagemaker.estimator.Estimator(image_name=image,\n",
    "                       role=role, \n",
    "                       train_instance_count=1, \n",
    "                       train_instance_type='local',\n",
    "                       output_path=output_path,\n",
    "                       sagemaker_session=session,\n",
    "                       hyperparameters=hyperparameters)\n",
    "\n",
    "model.fit(input_path)"
   ]
  },
  {
   "cell_type": "code",
   "execution_count": 10,
   "metadata": {
    "tags": []
   },
   "outputs": [
    {
     "output_type": "stream",
     "name": "stdout",
     "text": "Finished  2020-08-03 21:22:05.761690\n"
    }
   ],
   "source": [
    "\n",
    "print(\"Finished \", datetime.datetime.now())"
   ]
  },
  {
   "cell_type": "code",
   "execution_count": null,
   "metadata": {},
   "outputs": [],
   "source": []
  }
 ],
 "metadata": {
  "kernelspec": {
   "display_name": "Python 3",
   "language": "python",
   "name": "python3"
  },
  "language_info": {
   "codemirror_mode": {
    "name": "ipython",
    "version": 3
   },
   "file_extension": ".py",
   "mimetype": "text/x-python",
   "name": "python",
   "nbconvert_exporter": "python",
   "pygments_lexer": "ipython3",
   "version": "3.7.6"
  }
 },
 "nbformat": 4,
 "nbformat_minor": 4
}