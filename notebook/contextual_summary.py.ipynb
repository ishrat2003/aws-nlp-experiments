{
 "cells": [
  {
   "cell_type": "code",
   "execution_count": 15,
   "metadata": {
    "tags": []
   },
   "outputs": [
    {
     "output_type": "stream",
     "name": "stdout",
     "text": "Started  2020-07-27 10:45:26.863809\n"
    }
   ],
   "source": [
    "import datetime\n",
    "print(\"Started \", datetime.datetime.now())"
   ]
  },
  {
   "cell_type": "code",
   "execution_count": 17,
   "metadata": {},
   "outputs": [],
   "source": [
    "# S3 prefix\n",
    "prefix = 'contextual_summary'\n",
    "\n",
    "# Define IAM role\n",
    "import boto3\n",
    "import re\n",
    "\n",
    "import os\n",
    "import numpy as np\n",
    "import pandas as pd\n",
    "\n",
    "\n",
    "role = \"arn:aws:iam::540686626730:role/isSageMakerRole\""
   ]
  },
  {
   "cell_type": "code",
   "execution_count": 19,
   "metadata": {},
   "outputs": [],
   "source": [
    "#https://medium.com/analytics-vidhya/house-price-prediction-regression-with-tensorflow-keras-4fc49fae7123"
   ]
  },
  {
   "cell_type": "code",
   "execution_count": 18,
   "metadata": {
    "tags": []
   },
   "outputs": [
    {
     "output_type": "stream",
     "name": "stdout",
     "text": "Account: 540686626730\nBucket: sagemaker-eu-west-1-540686626730\nRegion: eu-west-1\n"
    }
   ],
   "source": [
    "import sagemaker\n",
    "from sagemaker.local import LocalSession\n",
    "from time import gmtime, strftime\n",
    "\n",
    "session = sagemaker.LocalSession()\n",
    "\n",
    "account = session.boto_session.client('sts').get_caller_identity()['Account']\n",
    "region = session.boto_session.region_name\n",
    "bucket = \"sagemaker-{}-{}\".format(region, account)\n",
    "\n",
    "print('Account:', account)\n",
    "print('Bucket:', bucket)\n",
    "print('Region:', region)"
   ]
  },
  {
   "cell_type": "code",
   "execution_count": 7,
   "metadata": {},
   "outputs": [],
   "source": [
    "# Setting up local pipeline to save download data time. This code is not rrequired for other modes.\n",
    "\n",
    "session.config = {'local': {'local_code': True}} # local_code = True means keep everything local. Not even use S3 for data \n",
    "\n",
    "input_path = \"file:///Users/ishratsami/Workspace/research_projects/data/Covid19\"\n",
    "output_path = \"file:///Users/ishratsami/Workspace/research_projects/output/Covid19\""
   ]
  },
  {
   "cell_type": "code",
   "execution_count": 34,
   "metadata": {
    "tags": []
   },
   "outputs": [
    {
     "output_type": "stream",
     "name": "stdout",
     "text": "s3://sagemaker-eu-west-1-540686626730/covid19/input/\n"
    }
   ],
   "source": [
    "# data_key = 'covid19/input/'\n",
    "# input_path = 's3://{}/{}'.format(bucket, data_key)\n",
    "# output_path = 's3://{}/{}'.format(bucket, 'covid19/output/')\n"
   ]
  },
  {
   "cell_type": "code",
   "execution_count": 19,
   "metadata": {
    "tags": []
   },
   "outputs": [
    {
     "output_type": "stream",
     "name": "stdout",
     "text": "Input:  file:///Users/ishratsami/Workspace/research_projects/data/Covid19\nOutput: file:///Users/ishratsami/Workspace/research_projects/output/Covid19\n"
    }
   ],
   "source": [
    "print('Input: ', input_path)\n",
    "print('Output:', output_path)"
   ]
  },
  {
   "cell_type": "code",
   "execution_count": 22,
   "metadata": {
    "tags": []
   },
   "outputs": [
    {
     "output_type": "error",
     "ename": "TypeError",
     "evalue": "__init__() got an unexpected keyword argument 'image_uri'",
     "traceback": [
      "\u001b[0;31m---------------------------------------------------------------------------\u001b[0m",
      "\u001b[0;31mTypeError\u001b[0m                                 Traceback (most recent call last)",
      "\u001b[0;32m<ipython-input-22-09836e1174ac>\u001b[0m in \u001b[0;36m<module>\u001b[0;34m\u001b[0m\n\u001b[1;32m      7\u001b[0m                        \u001b[0moutput_path\u001b[0m\u001b[0;34m=\u001b[0m\u001b[0moutput_path\u001b[0m\u001b[0;34m,\u001b[0m\u001b[0;34m\u001b[0m\u001b[0;34m\u001b[0m\u001b[0m\n\u001b[1;32m      8\u001b[0m                        \u001b[0msagemaker_session\u001b[0m\u001b[0;34m=\u001b[0m\u001b[0msession\u001b[0m\u001b[0;34m,\u001b[0m\u001b[0;34m\u001b[0m\u001b[0;34m\u001b[0m\u001b[0m\n\u001b[0;32m----> 9\u001b[0;31m                        hyperparameters={'def': \"123\"})\n\u001b[0m\u001b[1;32m     10\u001b[0m \u001b[0;34m\u001b[0m\u001b[0m\n\u001b[1;32m     11\u001b[0m \u001b[0;31m#model.fit(input_path)\u001b[0m\u001b[0;34m\u001b[0m\u001b[0;34m\u001b[0m\u001b[0;34m\u001b[0m\u001b[0m\n",
      "\u001b[0;31mTypeError\u001b[0m: __init__() got an unexpected keyword argument 'image_uri'"
     ]
    }
   ],
   "source": [
    "image = '{}.dkr.ecr.{}.amazonaws.com/aws-contextual-summary:latest'.format(account, region)\n",
    "# output_path=\"s3://{}/test/kaggle/output\".format(bucket)\n",
    "model = sagemaker.estimator.Estimator(image_name=image,\n",
    "                       role=role, \n",
    "                       train_instance_count=1, \n",
    "                       train_instance_type='local',\n",
    "                       output_path=output_path,\n",
    "                       sagemaker_session=session,\n",
    "                       hyperparameters={'def': \"123\"})\n",
    "\n",
    "#model.fit(input_path)"
   ]
  },
  {
   "cell_type": "code",
   "execution_count": 24,
   "metadata": {
    "tags": []
   },
   "outputs": [
    {
     "output_type": "stream",
     "name": "stdout",
     "text": "Finished  2020-07-12 14:10:21.816392\n"
    }
   ],
   "source": [
    "\n",
    "print(\"Finished \", datetime.datetime.now())"
   ]
  },
  {
   "cell_type": "code",
   "execution_count": null,
   "metadata": {},
   "outputs": [],
   "source": []
  }
 ],
 "metadata": {
  "kernelspec": {
   "display_name": "Python 3",
   "language": "python",
   "name": "python3"
  },
  "language_info": {
   "codemirror_mode": {
    "name": "ipython",
    "version": 3
   },
   "file_extension": ".py",
   "mimetype": "text/x-python",
   "name": "python",
   "nbconvert_exporter": "python",
   "pygments_lexer": "ipython3",
   "version": "3.7.6"
  }
 },
 "nbformat": 4,
 "nbformat_minor": 4
}